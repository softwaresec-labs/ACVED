{
 "cells": [
  {
   "cell_type": "code",
   "execution_count": 1,
   "id": "e69e8fb9",
   "metadata": {},
   "outputs": [],
   "source": [
    "import pandas as pd\n",
    "import matplotlib.pyplot as plt\n",
    "from sklearn.model_selection import train_test_split\n",
    "from sklearn.metrics import accuracy_score, classification_report,confusion_matrix\n",
    "from xgboost import XGBClassifier\n",
    "from sklearn.feature_extraction.text import CountVectorizer\n",
    "import seaborn as sn\n",
    "import pickle\n",
    "import math\n",
    "import imblearn"
   ]
  },
  {
   "cell_type": "markdown",
   "id": "1c62b774",
   "metadata": {},
   "source": [
    "## APKs_Combined_Processed_csv"
   ]
  },
  {
   "cell_type": "code",
   "execution_count": 2,
   "id": "436a5acc",
   "metadata": {},
   "outputs": [],
   "source": [
    "vulnerability_df = pd.read_pickle(\"D:\\\\PhD\\\\Model_Building\\\\Stage_6_ML_Model_Training\\\\Version_3.0\\\\proccessed_dataset_for_analysis.pickle\")  "
   ]
  },
  {
   "cell_type": "code",
   "execution_count": 3,
   "id": "33737f49",
   "metadata": {},
   "outputs": [
    {
     "data": {
      "text/html": [
       "<div>\n",
       "<style scoped>\n",
       "    .dataframe tbody tr th:only-of-type {\n",
       "        vertical-align: middle;\n",
       "    }\n",
       "\n",
       "    .dataframe tbody tr th {\n",
       "        vertical-align: top;\n",
       "    }\n",
       "\n",
       "    .dataframe thead th {\n",
       "        text-align: right;\n",
       "    }\n",
       "</style>\n",
       "<table border=\"1\" class=\"dataframe\">\n",
       "  <thead>\n",
       "    <tr style=\"text-align: right;\">\n",
       "      <th></th>\n",
       "      <th>Code</th>\n",
       "      <th>processed_code</th>\n",
       "      <th>Vulnerability_status</th>\n",
       "      <th>CWE_ID</th>\n",
       "    </tr>\n",
       "  </thead>\n",
       "  <tbody>\n",
       "    <tr>\n",
       "      <th>0</th>\n",
       "      <td>package org.ksoap2.samples.amazon;</td>\n",
       "      <td>package org.ksoap2.samples.amazon;</td>\n",
       "      <td>0</td>\n",
       "      <td></td>\n",
       "    </tr>\n",
       "    <tr>\n",
       "      <th>1</th>\n",
       "      <td></td>\n",
       "      <td></td>\n",
       "      <td>0</td>\n",
       "      <td></td>\n",
       "    </tr>\n",
       "    <tr>\n",
       "      <th>2</th>\n",
       "      <td>import allahabadbank.albumbrella.BuildConfig;</td>\n",
       "      <td>import allahabadbank.albumbrella.BuildConfig;</td>\n",
       "      <td>0</td>\n",
       "      <td></td>\n",
       "    </tr>\n",
       "    <tr>\n",
       "      <th>3</th>\n",
       "      <td>import java.util.Vector;</td>\n",
       "      <td>import java.util.Vector;</td>\n",
       "      <td>0</td>\n",
       "      <td></td>\n",
       "    </tr>\n",
       "    <tr>\n",
       "      <th>4</th>\n",
       "      <td>import javax.microedition.lcdui.Command;</td>\n",
       "      <td>import javax.microedition.lcdui.Command;</td>\n",
       "      <td>0</td>\n",
       "      <td></td>\n",
       "    </tr>\n",
       "  </tbody>\n",
       "</table>\n",
       "</div>"
      ],
      "text/plain": [
       "                                            Code  \\\n",
       "0             package org.ksoap2.samples.amazon;   \n",
       "1                                                  \n",
       "2  import allahabadbank.albumbrella.BuildConfig;   \n",
       "3                       import java.util.Vector;   \n",
       "4       import javax.microedition.lcdui.Command;   \n",
       "\n",
       "                                  processed_code  Vulnerability_status CWE_ID  \n",
       "0             package org.ksoap2.samples.amazon;                     0         \n",
       "1                                                                    0         \n",
       "2  import allahabadbank.albumbrella.BuildConfig;                     0         \n",
       "3                       import java.util.Vector;                     0         \n",
       "4       import javax.microedition.lcdui.Command;                     0         "
      ]
     },
     "execution_count": 3,
     "metadata": {},
     "output_type": "execute_result"
    }
   ],
   "source": [
    "vulnerability_df.head()"
   ]
  },
  {
   "cell_type": "markdown",
   "id": "47c4e937",
   "metadata": {},
   "source": [
    "### Binary Classification"
   ]
  },
  {
   "cell_type": "code",
   "execution_count": 4,
   "id": "6f9582ec",
   "metadata": {},
   "outputs": [
    {
     "data": {
      "text/plain": [
       "0    15279029\n",
       "1      191949\n",
       "Name: Vulnerability_status, dtype: int64"
      ]
     },
     "execution_count": 4,
     "metadata": {},
     "output_type": "execute_result"
    }
   ],
   "source": [
    "vulnerability_df.Vulnerability_status.value_counts()"
   ]
  },
  {
   "cell_type": "code",
   "execution_count": 5,
   "id": "2dcf400f",
   "metadata": {},
   "outputs": [],
   "source": [
    "c_0 = vulnerability_df[vulnerability_df.Vulnerability_status == 0]\n",
    "c_1 = vulnerability_df[vulnerability_df.Vulnerability_status == 1]"
   ]
  },
  {
   "cell_type": "code",
   "execution_count": 6,
   "id": "306d8d8b",
   "metadata": {},
   "outputs": [
    {
     "name": "stdout",
     "output_type": "stream",
     "text": [
      "191949 191000\n"
     ]
    }
   ],
   "source": [
    "c_0_count = c_0.processed_code.count()\n",
    "c_1_count = c_1.processed_code.count()\n",
    "\n",
    "min_count = 0\n",
    "\n",
    "if(c_0_count<=c_1_count):\n",
    "    min_count = c_0_count\n",
    "else:\n",
    "    min_count = c_1_count\n",
    "\n",
    "i = (math.ceil(min_count / 1000) * 1000)-1000\n",
    "print(min_count,i)"
   ]
  },
  {
   "cell_type": "code",
   "execution_count": 7,
   "id": "3353ca67",
   "metadata": {},
   "outputs": [],
   "source": [
    "df_0 = c_0.sample(i)\n",
    "df_1 = c_1.sample(i)\n",
    "\n",
    "vulnerability_df = pd.concat([df_0, df_1], ignore_index=True)"
   ]
  },
  {
   "cell_type": "code",
   "execution_count": 8,
   "id": "37601092",
   "metadata": {},
   "outputs": [
    {
     "data": {
      "text/plain": [
       "0    191000\n",
       "1    191000\n",
       "Name: Vulnerability_status, dtype: int64"
      ]
     },
     "execution_count": 8,
     "metadata": {},
     "output_type": "execute_result"
    }
   ],
   "source": [
    "vulnerability_df.Vulnerability_status.value_counts()"
   ]
  },
  {
   "cell_type": "code",
   "execution_count": 9,
   "id": "348d6962",
   "metadata": {},
   "outputs": [
    {
     "name": "stdout",
     "output_type": "stream",
     "text": [
      "2135\n"
     ]
    }
   ],
   "source": [
    "code_list = vulnerability_df.processed_code.tolist()\n",
    "y = vulnerability_df.Vulnerability_status\n",
    "\n",
    "sentences = code_list\n",
    "y = y.values\n",
    "\n",
    "sentences_train, sentences_test, y_train, y_test = train_test_split(sentences, y, test_size=0.25, random_state=1)\n",
    "vectorizer = CountVectorizer(analyzer = 'word', lowercase=True, max_df=0.80, min_df=100, ngram_range=(1,3))\n",
    "vectorizer.fit(sentences_train)\n",
    "X_train = vectorizer.transform(sentences_train)\n",
    "X_test  = vectorizer.transform(sentences_test)\n",
    "\n",
    "print(len(vectorizer.vocabulary_))"
   ]
  },
  {
   "cell_type": "code",
   "execution_count": 11,
   "id": "ca21cbea",
   "metadata": {},
   "outputs": [
    {
     "name": "stdout",
     "output_type": "stream",
     "text": [
      "              precision    recall  f1-score   support\n",
      "\n",
      "           0       0.89      0.94      0.91     47689\n",
      "           1       0.94      0.88      0.91     47811\n",
      "\n",
      "    accuracy                           0.91     95500\n",
      "   macro avg       0.91      0.91      0.91     95500\n",
      "weighted avg       0.91      0.91      0.91     95500\n",
      "\n"
     ]
    },
    {
     "data": {
      "text/plain": [
       "<AxesSubplot:>"
      ]
     },
     "execution_count": 11,
     "metadata": {},
     "output_type": "execute_result"
    },
    {
     "data": {
      "image/png": "[encoded data removed]",
      "text/plain": [
       "<Figure size 432x288 with 2 Axes>"
      ]
     },
     "metadata": {
      "needs_background": "light"
     },
     "output_type": "display_data"
    }
   ],
   "source": [
    "from sklearn.naive_bayes import MultinomialNB\n",
    "nb_classifier = MultinomialNB()\n",
    "nb_model = nb_classifier.fit(X_train, y_train)\n",
    "nb_predictions = nb_classifier.predict(X_test)\n",
    "cm = confusion_matrix(y_test, nb_predictions)\n",
    "print(classification_report(y_test, nb_predictions))\n",
    "sn.heatmap(cm, annot=True, fmt='g')"
   ]
  },
  {
   "cell_type": "code",
   "execution_count": 12,
   "id": "7d2286aa",
   "metadata": {},
   "outputs": [
    {
     "name": "stderr",
     "output_type": "stream",
     "text": [
      "C:\\Users\\janak\\anaconda3\\lib\\site-packages\\sklearn\\linear_model\\_logistic.py:814: ConvergenceWarning: lbfgs failed to converge (status=1):\n",
      "STOP: TOTAL NO. of ITERATIONS REACHED LIMIT.\n",
      "\n",
      "Increase the number of iterations (max_iter) or scale the data as shown in:\n",
      "    https://scikit-learn.org/stable/modules/preprocessing.html\n",
      "Please also refer to the documentation for alternative solver options:\n",
      "    https://scikit-learn.org/stable/modules/linear_model.html#logistic-regression\n",
      "  n_iter_i = _check_optimize_result(\n"
     ]
    },
    {
     "name": "stdout",
     "output_type": "stream",
     "text": [
      "              precision    recall  f1-score   support\n",
      "\n",
      "           0       0.92      0.97      0.94     47689\n",
      "           1       0.97      0.91      0.94     47811\n",
      "\n",
      "    accuracy                           0.94     95500\n",
      "   macro avg       0.94      0.94      0.94     95500\n",
      "weighted avg       0.94      0.94      0.94     95500\n",
      "\n"
     ]
    },
    {
     "data": {
      "text/plain": [
       "<AxesSubplot:>"
      ]
     },
     "execution_count": 12,
     "metadata": {},
     "output_type": "execute_result"
    },
    {
     "data": {
      "image/png": "[encoded data removed]",
      "text/plain": [
       "<Figure size 432x288 with 2 Axes>"
      ]
     },
     "metadata": {
      "needs_background": "light"
     },
     "output_type": "display_data"
    }
   ],
   "source": [
    "from sklearn.linear_model import LogisticRegression\n",
    "lr_classifier = LogisticRegression()\n",
    "lr_model = lr_classifier.fit(X_train, y_train)\n",
    "lr_predictions = lr_classifier.predict(X_test)\n",
    "cm = confusion_matrix(y_test, lr_predictions)\n",
    "print(classification_report(y_test, lr_predictions))\n",
    "sn.heatmap(cm, annot=True, fmt='g')"
   ]
  },
  {
   "cell_type": "code",
   "execution_count": 13,
   "id": "a271f634",
   "metadata": {
    "scrolled": false
   },
   "outputs": [
    {
     "name": "stdout",
     "output_type": "stream",
     "text": [
      "              precision    recall  f1-score   support\n",
      "\n",
      "           0       0.92      0.97      0.94     47689\n",
      "           1       0.97      0.91      0.94     47811\n",
      "\n",
      "    accuracy                           0.94     95500\n",
      "   macro avg       0.94      0.94      0.94     95500\n",
      "weighted avg       0.94      0.94      0.94     95500\n",
      "\n"
     ]
    },
    {
     "data": {
      "text/plain": [
       "<AxesSubplot:>"
      ]
     },
     "execution_count": 13,
     "metadata": {},
     "output_type": "execute_result"
    },
    {
     "data": {
      "image/png": "[encoded data removed]",
      "text/plain": [
       "<Figure size 432x288 with 2 Axes>"
      ]
     },
     "metadata": {
      "needs_background": "light"
     },
     "output_type": "display_data"
    }
   ],
   "source": [
    "xgb_classifier = XGBClassifier(use_label_encoder =False, eval_metric='mlogloss')\n",
    "xgb_model = xgb_classifier.fit(X_train, y_train)\n",
    "xgb_predictions = xgb_classifier.predict(X_test)\n",
    "cm = confusion_matrix(y_test, xgb_predictions)\n",
    "print(classification_report(y_test, xgb_predictions))\n",
    "sn.heatmap(cm, annot=True, fmt='g')"
   ]
  },
  {
   "cell_type": "code",
   "execution_count": 14,
   "id": "86efdb95",
   "metadata": {},
   "outputs": [
    {
     "name": "stdout",
     "output_type": "stream",
     "text": [
      "              precision    recall  f1-score   support\n",
      "\n",
      "           0       0.89      0.94      0.92     47689\n",
      "           1       0.94      0.89      0.91     47811\n",
      "\n",
      "    accuracy                           0.91     95500\n",
      "   macro avg       0.92      0.91      0.91     95500\n",
      "weighted avg       0.92      0.91      0.91     95500\n",
      "\n"
     ]
    },
    {
     "data": {
      "text/plain": [
       "<AxesSubplot:>"
      ]
     },
     "execution_count": 14,
     "metadata": {},
     "output_type": "execute_result"
    },
    {
     "data": {
      "image/png": "[encoded data removed]",
      "text/plain": [
       "<Figure size 432x288 with 2 Axes>"
      ]
     },
     "metadata": {
      "needs_background": "light"
     },
     "output_type": "display_data"
    }
   ],
   "source": [
    "from sklearn.ensemble import GradientBoostingClassifier\n",
    "gb_classifier = GradientBoostingClassifier()\n",
    "gb_model = gb_classifier.fit(X_train, y_train)\n",
    "gb_predictions = gb_classifier.predict(X_test)\n",
    "cm = confusion_matrix(y_test, gb_predictions)\n",
    "print(classification_report(y_test, gb_predictions))\n",
    "sn.heatmap(cm, annot=True, fmt='g')"
   ]
  },
  {
   "cell_type": "code",
   "execution_count": 15,
   "id": "61faf8e3",
   "metadata": {},
   "outputs": [
    {
     "name": "stdout",
     "output_type": "stream",
     "text": [
      "              precision    recall  f1-score   support\n",
      "\n",
      "           0       0.94      0.96      0.95     47689\n",
      "           1       0.96      0.94      0.95     47811\n",
      "\n",
      "    accuracy                           0.95     95500\n",
      "   macro avg       0.95      0.95      0.95     95500\n",
      "weighted avg       0.95      0.95      0.95     95500\n",
      "\n"
     ]
    },
    {
     "data": {
      "text/plain": [
       "<AxesSubplot:>"
      ]
     },
     "execution_count": 15,
     "metadata": {},
     "output_type": "execute_result"
    },
    {
     "data": {
      "image/png": "[encoded data removed]",
      "text/plain": [
       "<Figure size 432x288 with 2 Axes>"
      ]
     },
     "metadata": {
      "needs_background": "light"
     },
     "output_type": "display_data"
    }
   ],
   "source": [
    "from sklearn.ensemble import RandomForestClassifier\n",
    "rf_classifier = RandomForestClassifier()\n",
    "rf_model = rf_classifier.fit(X_train, y_train)\n",
    "rf_predictions = rf_classifier.predict(X_test)\n",
    "cm = confusion_matrix(y_test, rf_predictions)\n",
    "print(classification_report(y_test, rf_predictions))\n",
    "sn.heatmap(cm, annot=True, fmt='g')"
   ]
  },
  {
   "cell_type": "code",
   "execution_count": 16,
   "id": "6b25defb",
   "metadata": {},
   "outputs": [
    {
     "name": "stdout",
     "output_type": "stream",
     "text": [
      "              precision    recall  f1-score   support\n",
      "\n",
      "           0       0.89      0.97      0.93     47689\n",
      "           1       0.97      0.88      0.92     47811\n",
      "\n",
      "    accuracy                           0.93     95500\n",
      "   macro avg       0.93      0.93      0.93     95500\n",
      "weighted avg       0.93      0.93      0.93     95500\n",
      "\n"
     ]
    },
    {
     "data": {
      "text/plain": [
       "<AxesSubplot:>"
      ]
     },
     "execution_count": 16,
     "metadata": {},
     "output_type": "execute_result"
    },
    {
     "data": {
      "image/png": "[encoded data removed]",
      "text/plain": [
       "<Figure size 432x288 with 2 Axes>"
      ]
     },
     "metadata": {
      "needs_background": "light"
     },
     "output_type": "display_data"
    }
   ],
   "source": [
    "from sklearn.neural_network import MLPClassifier\n",
    "MLP_classifier = MLPClassifier(alpha=1, max_iter=100)\n",
    "mlp_model = MLP_classifier.fit(X_train, y_train)\n",
    "mlp_predictions = MLP_classifier.predict(X_test)\n",
    "cm = confusion_matrix(y_test, mlp_predictions)\n",
    "print(classification_report(y_test, mlp_predictions))\n",
    "sn.heatmap(cm, annot=True, fmt='g')"
   ]
  },
  {
   "cell_type": "code",
   "execution_count": 17,
   "id": "1da69d75",
   "metadata": {},
   "outputs": [
    {
     "name": "stdout",
     "output_type": "stream",
     "text": [
      "              precision    recall  f1-score   support\n",
      "\n",
      "           0       0.94      0.84      0.89     47689\n",
      "           1       0.86      0.95      0.90     47811\n",
      "\n",
      "    accuracy                           0.89     95500\n",
      "   macro avg       0.90      0.89      0.89     95500\n",
      "weighted avg       0.90      0.89      0.89     95500\n",
      "\n"
     ]
    },
    {
     "data": {
      "text/plain": [
       "<AxesSubplot:>"
      ]
     },
     "execution_count": 17,
     "metadata": {},
     "output_type": "execute_result"
    },
    {
     "data": {
      "image/png": "[encoded data removed]",
      "text/plain": [
       "<Figure size 432x288 with 2 Axes>"
      ]
     },
     "metadata": {
      "needs_background": "light"
     },
     "output_type": "display_data"
    }
   ],
   "source": [
    "from sklearn.svm import SVC\n",
    "SVC_classifier = SVC(gamma=2, C=1)\n",
    "svc_model = SVC_classifier.fit(X_train, y_train)\n",
    "svc_predictions = SVC_classifier.predict(X_test)\n",
    "cm = confusion_matrix(y_test, svc_predictions)\n",
    "print(classification_report(y_test, svc_predictions))\n",
    "sn.heatmap(cm, annot=True, fmt='g')"
   ]
  },
  {
   "cell_type": "code",
   "execution_count": 18,
   "id": "3eb081a0",
   "metadata": {},
   "outputs": [
    {
     "name": "stdout",
     "output_type": "stream",
     "text": [
      "              precision    recall  f1-score   support\n",
      "\n",
      "           0       0.94      0.95      0.94     47689\n",
      "           1       0.95      0.94      0.94     47811\n",
      "\n",
      "    accuracy                           0.94     95500\n",
      "   macro avg       0.94      0.94      0.94     95500\n",
      "weighted avg       0.94      0.94      0.94     95500\n",
      "\n"
     ]
    },
    {
     "data": {
      "text/plain": [
       "<AxesSubplot:>"
      ]
     },
     "execution_count": 18,
     "metadata": {},
     "output_type": "execute_result"
    },
    {
     "data": {
      "image/png": "[encoded data removed]",
      "text/plain": [
       "<Figure size 432x288 with 2 Axes>"
      ]
     },
     "metadata": {
      "needs_background": "light"
     },
     "output_type": "display_data"
    }
   ],
   "source": [
    "from sklearn import tree\n",
    "dt_classifier = tree.DecisionTreeClassifier()\n",
    "dt_model = dt_classifier.fit(X_train, y_train)\n",
    "dt_predictions = dt_classifier.predict(X_test)\n",
    "cm = confusion_matrix(y_test, dt_predictions)\n",
    "print(classification_report(y_test, dt_predictions))\n",
    "sn.heatmap(cm, annot=True, fmt='g')"
   ]
  },
  {
   "cell_type": "code",
   "execution_count": 19,
   "id": "672811cc",
   "metadata": {},
   "outputs": [],
   "source": [
    "from sklearn.ensemble import StackingClassifier\n",
    "from sklearn.linear_model import LogisticRegression\n",
    "\n",
    "estimator_list = [\n",
    "    ('nb', nb_classifier),\n",
    "    ('lr', lr_classifier),\n",
    "    ('xgb', xgb_classifier),\n",
    "    ('gb', gb_classifier),\n",
    "    ('rf', rf_classifier),\n",
    "    ('mlp', MLP_classifier),\n",
    "    ('svc', SVC_classifier),\n",
    "    ('dt', dt_classifier)\n",
    "    \n",
    "]\n",
    "\n",
    "stack_model = StackingClassifier(\n",
    "    estimators =estimator_list, final_estimator = LogisticRegression())"
   ]
  },
  {
   "cell_type": "code",
   "execution_count": 20,
   "id": "ac8ed163",
   "metadata": {},
   "outputs": [
    {
     "name": "stderr",
     "output_type": "stream",
     "text": [
      "C:\\Users\\janak\\anaconda3\\lib\\site-packages\\sklearn\\linear_model\\_logistic.py:814: ConvergenceWarning: lbfgs failed to converge (status=1):\n",
      "STOP: TOTAL NO. of ITERATIONS REACHED LIMIT.\n",
      "\n",
      "Increase the number of iterations (max_iter) or scale the data as shown in:\n",
      "    https://scikit-learn.org/stable/modules/preprocessing.html\n",
      "Please also refer to the documentation for alternative solver options:\n",
      "    https://scikit-learn.org/stable/modules/linear_model.html#logistic-regression\n",
      "  n_iter_i = _check_optimize_result(\n",
      "C:\\Users\\janak\\anaconda3\\lib\\site-packages\\sklearn\\linear_model\\_logistic.py:814: ConvergenceWarning: lbfgs failed to converge (status=1):\n",
      "STOP: TOTAL NO. of ITERATIONS REACHED LIMIT.\n",
      "\n",
      "Increase the number of iterations (max_iter) or scale the data as shown in:\n",
      "    https://scikit-learn.org/stable/modules/preprocessing.html\n",
      "Please also refer to the documentation for alternative solver options:\n",
      "    https://scikit-learn.org/stable/modules/linear_model.html#logistic-regression\n",
      "  n_iter_i = _check_optimize_result(\n",
      "C:\\Users\\janak\\anaconda3\\lib\\site-packages\\sklearn\\linear_model\\_logistic.py:814: ConvergenceWarning: lbfgs failed to converge (status=1):\n",
      "STOP: TOTAL NO. of ITERATIONS REACHED LIMIT.\n",
      "\n",
      "Increase the number of iterations (max_iter) or scale the data as shown in:\n",
      "    https://scikit-learn.org/stable/modules/preprocessing.html\n",
      "Please also refer to the documentation for alternative solver options:\n",
      "    https://scikit-learn.org/stable/modules/linear_model.html#logistic-regression\n",
      "  n_iter_i = _check_optimize_result(\n",
      "C:\\Users\\janak\\anaconda3\\lib\\site-packages\\sklearn\\linear_model\\_logistic.py:814: ConvergenceWarning: lbfgs failed to converge (status=1):\n",
      "STOP: TOTAL NO. of ITERATIONS REACHED LIMIT.\n",
      "\n",
      "Increase the number of iterations (max_iter) or scale the data as shown in:\n",
      "    https://scikit-learn.org/stable/modules/preprocessing.html\n",
      "Please also refer to the documentation for alternative solver options:\n",
      "    https://scikit-learn.org/stable/modules/linear_model.html#logistic-regression\n",
      "  n_iter_i = _check_optimize_result(\n",
      "C:\\Users\\janak\\anaconda3\\lib\\site-packages\\sklearn\\linear_model\\_logistic.py:814: ConvergenceWarning: lbfgs failed to converge (status=1):\n",
      "STOP: TOTAL NO. of ITERATIONS REACHED LIMIT.\n",
      "\n",
      "Increase the number of iterations (max_iter) or scale the data as shown in:\n",
      "    https://scikit-learn.org/stable/modules/preprocessing.html\n",
      "Please also refer to the documentation for alternative solver options:\n",
      "    https://scikit-learn.org/stable/modules/linear_model.html#logistic-regression\n",
      "  n_iter_i = _check_optimize_result(\n",
      "C:\\Users\\janak\\anaconda3\\lib\\site-packages\\sklearn\\linear_model\\_logistic.py:814: ConvergenceWarning: lbfgs failed to converge (status=1):\n",
      "STOP: TOTAL NO. of ITERATIONS REACHED LIMIT.\n",
      "\n",
      "Increase the number of iterations (max_iter) or scale the data as shown in:\n",
      "    https://scikit-learn.org/stable/modules/preprocessing.html\n",
      "Please also refer to the documentation for alternative solver options:\n",
      "    https://scikit-learn.org/stable/modules/linear_model.html#logistic-regression\n",
      "  n_iter_i = _check_optimize_result(\n"
     ]
    },
    {
     "name": "stdout",
     "output_type": "stream",
     "text": [
      "              precision    recall  f1-score   support\n",
      "\n",
      "           0       0.94      0.96      0.95     47689\n",
      "           1       0.96      0.94      0.95     47811\n",
      "\n",
      "    accuracy                           0.95     95500\n",
      "   macro avg       0.95      0.95      0.95     95500\n",
      "weighted avg       0.95      0.95      0.95     95500\n",
      "\n"
     ]
    },
    {
     "data": {
      "text/plain": [
       "<AxesSubplot:>"
      ]
     },
     "execution_count": 20,
     "metadata": {},
     "output_type": "execute_result"
    },
    {
     "data": {
      "image/png": "[encoded data removed]",
      "text/plain": [
       "<Figure size 432x288 with 2 Axes>"
      ]
     },
     "metadata": {
      "needs_background": "light"
     },
     "output_type": "display_data"
    }
   ],
   "source": [
    "stack_model_new = stack_model.fit(X_train, y_train)\n",
    "stack_predictions = stack_model_new.predict(X_test)\n",
    "cm = confusion_matrix(y_test, stack_predictions)\n",
    "print(classification_report(y_test, stack_predictions))\n",
    "sn.heatmap(cm, annot=True, fmt='g')"
   ]
  },
  {
   "cell_type": "code",
   "execution_count": 22,
   "id": "ff84129c",
   "metadata": {},
   "outputs": [],
   "source": [
    "with open(\"binary_model.pickle\", 'wb') as fout:\n",
    "    pickle.dump((vectorizer, stack_model_new, stack_model), fout)"
   ]
  },
  {
   "cell_type": "code",
   "execution_count": null,
   "id": "98dbc994",
   "metadata": {},
   "outputs": [],
   "source": []
  }
 ],
 "metadata": {
  "kernelspec": {
   "display_name": "Python 3",
   "language": "python",
   "name": "python3"
  },
  "language_info": {
   "codemirror_mode": {
    "name": "ipython",
    "version": 3
   },
   "file_extension": ".py",
   "mimetype": "text/x-python",
   "name": "python",
   "nbconvert_exporter": "python",
   "pygments_lexer": "ipython3",
   "version": "3.8.8"
  }
 },
 "nbformat": 4,
 "nbformat_minor": 5
}
