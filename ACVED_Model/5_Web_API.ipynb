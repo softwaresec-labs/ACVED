{
 "cells": [
  {
   "cell_type": "code",
   "execution_count": 1,
   "id": "f2ffb1c2",
   "metadata": {},
   "outputs": [],
   "source": [
    "# pip install Flask"
   ]
  },
  {
   "cell_type": "code",
   "execution_count": 14,
   "id": "40a22996",
   "metadata": {},
   "outputs": [],
   "source": [
    "from flask import Flask, jsonify\n",
    "import pickle\n",
    "from werkzeug.wrappers import Request, Response\n",
    "from werkzeug.serving import run_simple\n",
    "\n",
    "from lime import lime_text\n",
    "from sklearn.pipeline import make_pipeline\n",
    "from lime.lime_text import LimeTextExplainer\n",
    "\n",
    "import re"
   ]
  },
  {
   "cell_type": "code",
   "execution_count": 15,
   "id": "ab54aea7",
   "metadata": {},
   "outputs": [],
   "source": [
    "test_data = ['MessageDigest instance = MessageDigest.getInstance(\"sha-1\");',\n",
    "             'Log.e(\"Java/LocalDNSServer\", \"Failed to create server socket\");',\n",
    "             'builder.addAddress(\"10.1.10.1\", 32);',\n",
    "             'if (intValue != 0 && !TextUtils.isEmpty(\"127.0.0.1\")) {',\n",
    "             'import java.util.Random;',\n",
    "             'public static final String OWM_API_KEY = \"82eff2c845841c89c837d4e125613d83\";',\n",
    "             'System.out.println(zone);',\n",
    "             'import java.security.MessageDigest;',\n",
    "             'String name = \"MyApp\";',\n",
    "             'System.out.println(\"echo <text>\\n\\nprints the text\\n\");']"
   ]
  },
  {
   "cell_type": "code",
   "execution_count": 16,
   "id": "c7c16dc1",
   "metadata": {},
   "outputs": [],
   "source": [
    "def preprocess_comments_and_strings(code_line):\n",
    "    \n",
    "    processed_code_line = code_line\n",
    "\n",
    "    encryption_hashing_pattern = \"AES|aes|SHA-1|sha-1|SHA1|sha1|MD5|md5\"\n",
    "    ip_pattern = \"\\w*([0-9]{1,3})\\.([0-9]{1,3})\\.([0-9]{1,3})\\.([0-9]{1,3})\\w*\"\n",
    "    string_pattern = \"\\\"[\\w|\\s|$|&|+|,|:|;|=|?|@|#|_|/|\\-|\\.|!|`|~|%|\\^|\\*|\\(|\\)|\\'\\\\[|\\]\\{|\\}]*\\\"\"\n",
    "\n",
    "    # Checking for encryption related strings\n",
    "    find_encryption = re.search(encryption_hashing_pattern, processed_code_line)\n",
    "\n",
    "    # Checking for IP related strings\n",
    "    find_ip = re.search(ip_pattern, processed_code_line)\n",
    "\n",
    "    if (find_encryption is None) & (find_ip is None):\n",
    "        # replacing all strings with dummy string\n",
    "        processed_code_line = re.sub(string_pattern, \"\\\"user_str\\\"\", processed_code_line)\n",
    "        \n",
    "    # replacing comments with dummy comment\n",
    "    #comment_pattern = \"//.*|/\\\\*(?s:.*?)\\\\*/|(\\\"(?:(?<!\\\\\\\\)(?:\\\\\\\\\\\\\\\\)*\\\\\\\\\\\"|[^\\r\\n\\\"])*\\\")\"\n",
    "    comment_pattern = \"//.*|/\\\\*(?s:.*?)\\\\*/|/\\\\*(.)*|(.)*\\\\*/\"\n",
    "    processed_code_line = re.sub(comment_pattern, \"//user_comment\",processed_code_line)\n",
    "\n",
    "    return processed_code_line"
   ]
  },
  {
   "cell_type": "code",
   "execution_count": 17,
   "id": "0854fe42",
   "metadata": {},
   "outputs": [],
   "source": [
    "with open('binary_model.pickle', 'rb') as bin_model_file:\n",
    "    binary_vectorizer, binary_classifier, binary_xgb_model = pickle.load(bin_model_file)\n",
    "    \n",
    "with open('multiclass_model.pickle', 'rb') as multi_model_file:\n",
    "    multi_vectorizer, mutli_classifier, multi_xgb_model = pickle.load(multi_model_file)"
   ]
  },
  {
   "cell_type": "code",
   "execution_count": 18,
   "id": "1a46d3cf",
   "metadata": {},
   "outputs": [],
   "source": [
    "def check_vulnerability(test_code):\n",
    "    CWE_code_word_list = \"\"\n",
    "    predicted_cwe_category_probability = 0\n",
    "    print (test_code)\n",
    "    xt_binary = binary_vectorizer.transform([test_code])\n",
    "    is_vulnearble = binary_xgb_model.predict(xt_binary)\n",
    "    pre_processed_test_code = preprocess_comments_and_strings(test_code)\n",
    "    vulnerability_probability, vulnerable_code_word_list = show_reason_binary(pre_processed_test_code,is_vulnearble[0])\n",
    "    vulnerable_class = 0\n",
    "    vul_nonvul = \"Vulnerable Code\"\n",
    "    if(is_vulnearble == 1):\n",
    "        xt_multi = multi_vectorizer.transform([test_code])        \n",
    "        vulnerable_class = multi_xgb_model.predict(xt_multi)[0]\n",
    "        predicted_cwe_category_probability, CWE_code_word_list = show_reason_multiclass(pre_processed_test_code,vulnerable_class)\n",
    "        \n",
    "    else:\n",
    "        vulnerable_class = 0\n",
    "        vul_nonvul = \"Non-Vulnerable Code\"\n",
    "    return pre_processed_test_code,vul_nonvul, vulnerable_class, vulnerability_probability, vulnerable_code_word_list,predicted_cwe_category_probability, CWE_code_word_list"
   ]
  },
  {
   "cell_type": "code",
   "execution_count": 19,
   "id": "d07d2845",
   "metadata": {},
   "outputs": [],
   "source": [
    "# def show_reason_binary(test_code, is_vulnerable):\n",
    "#     c = make_pipeline(binary_vectorizer, binary_classifier)\n",
    "#     class_names = [0,1]\n",
    "#     explainer = LimeTextExplainer(class_names=class_names)\n",
    "\n",
    "#     exp = explainer.explain_instance(test_code, c.predict_proba, num_features=5, top_labels=1)\n",
    "#     vulnerability_probability = c.predict_proba([test_code])[0,1]\n",
    "#     print('Probability(vulnerability) =', vulnerability_probability)\n",
    "#     print('Vulnerable class: ' , is_vulnerable)\n",
    "\n",
    "#     vulnerable_code_word_list = \"\"\n",
    "#     if(is_vulnerable == 1):\n",
    "#         vulnerable_code_word_list = str(exp.as_list())        \n",
    "\n",
    "#     return vulnerability_probability, vulnerable_code_word_list"
   ]
  },
  {
   "cell_type": "code",
   "execution_count": 20,
   "id": "557b2f5d",
   "metadata": {},
   "outputs": [],
   "source": [
    "def show_reason_binary(test_code, is_vulnerable):\n",
    "    c = make_pipeline(binary_vectorizer, binary_classifier)\n",
    "    class_names = [0,1]\n",
    "    explainer = LimeTextExplainer(class_names=class_names)\n",
    "\n",
    "    exp = explainer.explain_instance(test_code, c.predict_proba, num_features=5, top_labels=1)\n",
    "    \n",
    "    vulnerability_probability = c.predict_proba([test_code])[0,1]\n",
    "\n",
    "    vulnerable_code_word_list = \"\"\n",
    "    if(is_vulnerable == 1):\n",
    "        vulnerable_code_word_list = str(exp.as_list())        \n",
    "\n",
    "    return vulnerability_probability, vulnerable_code_word_list"
   ]
  },
  {
   "cell_type": "code",
   "execution_count": 21,
   "id": "c0e0b2d7",
   "metadata": {},
   "outputs": [],
   "source": [
    "def show_reason_multiclass(test_code, vulnerable_class):\n",
    "    c = make_pipeline(multi_vectorizer, mutli_classifier)\n",
    "    class_names = [\"CWE-200\",\"CWE-276\",\"CWE-312\",\"CWE-532\",\"Other\",\"CWE-676\",\"CWE-749\",\"CWE-89\",\"CWE-921\",\"CWE-985\",\"CWE-939\"]\n",
    "    explainer = LimeTextExplainer(class_names=class_names)\n",
    "\n",
    "    exp = explainer.explain_instance(test_code, c.predict_proba, num_features=5, top_labels=1)\n",
    "    \n",
    "    cwe_class_name_index = class_names.index(vulnerable_class)\n",
    "    predicted_cwe_category_probability = c.predict_proba([test_code])[0,cwe_class_name_index].round(2)\n",
    "    \n",
    "    CWE_code_word_list=\"\"\n",
    "    \n",
    "    if predicted_cwe_category_probability > 0.75:\n",
    "        CWE_code_word_list = exp.as_list(label=cwe_class_name_index)\n",
    "\n",
    "        \n",
    "    return predicted_cwe_category_probability, CWE_code_word_list"
   ]
  },
  {
   "cell_type": "code",
   "execution_count": 22,
   "id": "f5776514",
   "metadata": {},
   "outputs": [],
   "source": [
    "CWE_Desc = {\n",
    "    \"CWE-89\": \"The software constructs all or part of an SQL command using externally-influenced input from an upstream component, but it does not neutralize or incorrectly neutralizes special elements that could modify the intended SQL command when it is sent to a downstream component.\",\n",
    "    \"CWE-200\": \"The product exposes sensitive information to an actor that is not explicitly authorized to have access to that information.\",\n",
    "    \"CWE-276\": \"During installation, installed file permissions are set to allow anyone to modify those files.\",\n",
    "    \"CWE-312\": \"The application stores sensitive information in cleartext within a resource that might be accessible to another control sphere.\",\n",
    "    \"CWE-532\": \"Information written to log files can be of a sensitive nature and give valuable guidance to an attacker or expose sensitive user information.\",\n",
    "    \"CWE-676\": \"The program invokes a potentially dangerous function that could introduce a vulnerability if it is used incorrectly, but the function can also be used safely.\",\n",
    "    \"CWE-749\": \"The software provides an Applications Programming Interface (API) or similar interface for interaction with external actors, but the interface includes a dangerous method or function that is not properly restricted.\",\n",
    "    \"CWE-921\": \"The software stores sensitive information in a file system or device that does not have built-in access control.\",\n",
    "    \"CWE-925\": \"The Android application uses a Broadcast Receiver that receives an Intent but does not properly verify that the Intent came from an authorized source.\",\n",
    "    \"CWE-939\": \"The software uses a handler for a custom URL scheme, but it does not properly restrict which actors can invoke the handler using the scheme.\",\n",
    "    \"other\": \"Some other vulnerability\",\n",
    "    \"\": \"Non-vulnerable code\"\n",
    "}\n",
    "\n",
    "CWE_Links = {\n",
    "    \"CWE-89\": \"https://cwe.mitre.org/data/definitions/89.html\",\n",
    "    \"CWE-200\": \"https://cwe.mitre.org/data/definitions/200.html\",\n",
    "    \"CWE-276\": \"https://cwe.mitre.org/data/definitions/276.html\",\n",
    "    \"CWE-312\": \"https://cwe.mitre.org/data/definitions/312.html\",\n",
    "    \"CWE-532\": \"https://cwe.mitre.org/data/definitions/532.html\",\n",
    "    \"CWE-676\": \"https://cwe.mitre.org/data/definitions/676.html\",\n",
    "    \"CWE-749\": \"https://cwe.mitre.org/data/definitions/749.html\",\n",
    "    \"CWE-921\": \"https://cwe.mitre.org/data/definitions/921.html\",\n",
    "    \"CWE-925\": \"https://cwe.mitre.org/data/definitions/925.html\",\n",
    "    \"CWE-939\": \"https://cwe.mitre.org/data/definitions/939.html\",\n",
    "    \"other\": \"https://cwe.mitre.org/index.html\",\n",
    "    \"\": \"Non-vulnerable code\"\n",
    "}\n",
    "\n",
    "CWE_Mitigation = {\n",
    "    \"CWE-89\": \"The software constructs all or part of an SQL command using externally-influenced input from an upstream component, but it does not neutralize or incorrectly neutralizes special elements that could modify the intended SQL command when it is sent to a downstream component.\",\n",
    "    \"CWE-200\": \"The product exposes sensitive information to an actor that is not explicitly authorized to have access to that information.\",\n",
    "    \"CWE-276\": \"During installation, installed file permissions are set to allow anyone to modify those files.\",\n",
    "    \"CWE-312\": \"The application stores sensitive information in cleartext within a resource that might be accessible to another control sphere.\",\n",
    "    \"CWE-532\": \"Try to avoid inserting any confidential information in log statements. Minimise using log files in production-level apps.\",\n",
    "    \"CWE-676\": \"The program invokes a potentially dangerous function that could introduce a vulnerability if it is used incorrectly, but the function can also be used safely.\",\n",
    "    \"CWE-749\": \"The software provides an Applications Programming Interface (API) or similar interface for interaction with external actors, but the interface includes a dangerous method or function that is not properly restricted.\",\n",
    "    \"CWE-921\": \"The software stores sensitive information in a file system or device that does not have built-in access control.\",\n",
    "    \"CWE-925\": \"The Android application uses a Broadcast Receiver that receives an Intent but does not properly verify that the Intent came from an authorized source.\",\n",
    "    \"CWE-939\": \"The software uses a handler for a custom URL scheme, but it does not properly restrict which actors can invoke the handler using the scheme.\",\n",
    "    \"other\": \"Some other vulnerability\",\n",
    "    \"\": \"Non-vulnerable code\"\n",
    "}"
   ]
  },
  {
   "cell_type": "code",
   "execution_count": 23,
   "id": "729d874e",
   "metadata": {},
   "outputs": [],
   "source": [
    "app = Flask(__name__)\n",
    "app.config['JSON_SORT_KEYS'] = False\n",
    "\n",
    "@app.route('/')\n",
    "def index():\n",
    "    return \"welcome to vulnerability checker\"\n",
    "\n",
    "\n",
    "@app.route('/code', methods=['GET'])\n",
    "def get():\n",
    "    return_string = \"\"\n",
    "    for test_code in test_data:\n",
    "        return_string = return_string + str(check_vulnerability(test_code))\n",
    "    return return_string\n",
    "\n",
    "\n",
    "@app.route('/code/<string:test_code>', methods=['GET'])\n",
    "def getCWE(test_code):\n",
    "    pre_processed_test_code, vul_nonvul, vulnerable_class, vulnerability_probability, vulnerable_code_word_list,predicted_cwe_category_probability, CWE_code_word_list = check_vulnerability(test_code)\n",
    "    from collections import OrderedDict\n",
    "    \n",
    "    if vulnerable_class == 0:\n",
    "        vulnerable_class = \"\"\n",
    "    return jsonify({'code':str(test_code),\n",
    "                    'processed_code':str(pre_processed_test_code),\n",
    "                    'code_vulnerability_status':str(vul_nonvul),\n",
    "                    'code_vulnerability_probability':str(vulnerability_probability),\n",
    "                    'probability_breakdown_of_vulnerable_code_words':str(vulnerable_code_word_list),                    \n",
    "                    'cwe_id':str(vulnerable_class),\n",
    "                    'predicted_cwe_id_probability':str(predicted_cwe_category_probability),\n",
    "                    'probability_breakdown_of_cwe_related_vulnerable_code_words':str(CWE_code_word_list),\n",
    "                    'description':str(CWE_Desc[str(vulnerable_class)]),                    \n",
    "                    'mitigation':str(CWE_Mitigation[str(vulnerable_class)]),\n",
    "                    'cwe_reference':str(CWE_Links[str(vulnerable_class)])\n",
    "                   })\n",
    "\n",
    "    "
   ]
  },
  {
   "cell_type": "code",
   "execution_count": 25,
   "id": "231417aa",
   "metadata": {},
   "outputs": [
    {
     "name": "stderr",
     "output_type": "stream",
     "text": [
      " * Running on http://localhost:5000/ (Press CTRL+C to quit)\n"
     ]
    },
    {
     "name": "stdout",
     "output_type": "stream",
     "text": [
      "Log.e(\"JavaLocalDNSServer\", \"Failed to create server socket\");\n"
     ]
    },
    {
     "name": "stderr",
     "output_type": "stream",
     "text": [
      "127.0.0.1 - - [25/Aug/2022 11:48:27] \"\u001b[37mGET /code/Log.e(%22JavaLocalDNSServer%22,%20%22Failed%20to%20create%20server%20socket%22); HTTP/1.1\u001b[0m\" 200 -\n"
     ]
    }
   ],
   "source": [
    "run_simple('localhost', 5000, app)"
   ]
  },
  {
   "cell_type": "code",
   "execution_count": null,
   "id": "a38f826c",
   "metadata": {},
   "outputs": [],
   "source": []
  }
 ],
 "metadata": {
  "kernelspec": {
   "display_name": "Python 3",
   "language": "python",
   "name": "python3"
  },
  "language_info": {
   "codemirror_mode": {
    "name": "ipython",
    "version": 3
   },
   "file_extension": ".py",
   "mimetype": "text/x-python",
   "name": "python",
   "nbconvert_exporter": "python",
   "pygments_lexer": "ipython3",
   "version": "3.8.8"
  }
 },
 "nbformat": 4,
 "nbformat_minor": 5
}
